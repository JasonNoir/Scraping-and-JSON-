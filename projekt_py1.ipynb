{
 "cells": [
  {
   "cell_type": "code",
   "execution_count": 2,
   "id": "d1449ec9",
   "metadata": {},
   "outputs": [
    {
     "name": "stdout",
     "output_type": "stream",
     "text": [
      "{\"events\":[{\"tournament\":{\"name\":\"U21 Victoria NPL2\",\"slug\":\"u21-victoria-npl2\",\"category\":{\"name\":\"Australia\",\"slug\":\"australia\",\"sport\":{\"name\":\"Football\",\"slug\":\"football\",\"id\":1},\"id\":34,\"flag\":\"australia\",\"alpha2\":\"AU\"},\"priority\":0,\"id\":92089},\"customId\":\"LFbdsoUcd\",\"status\":{\"code\":6,\"description\":\"1st half\",\"type\":\"inprogress\"},\"homeTeam\":{\"name\":\"FC Bulleen Lions U21\",\"slug\":\"fc-bulleen-lions-u21\",\"shortName\":\"FC Bulleen Lions U21\",\"userCount\":220,\"nameCode\":\"FBL\",\"national\":false,\"type\":0,\"id\":379036,\"subTeams\":[],\"teamColors\":{\"primary\":\"#52b030\",\"secondary\":\"#52b030\",\"text\":\"#ffffff\"}},\"awayTeam\":{\"name\":\"Werribee City FC\",\"slug\":\"werribee-city-fc\",\"shortName\":\"Werribee City FC\",\"userCount\":59,\"nameCode\":\"WCF\",\"national\":false,\"type\":0,\"id\":382214,\"subTeams\":[],\"teamColors\":{\"primary\":\"#52b030\",\"secondary\":\"#52b030\",\"text\":\"#ffffff\"}},\"homeScore\":{\"current\":1,\"display\":1},\"awayScore\":{\"current\":0,\"display\":0},\"coverage\":-1,\"time\":{\"initial\":0,\"max\":2700,\"extra\":540,\"currentPeriodStartTimestamp\":1652084115},\"changes\":{\"changes\":[\"homeScore.current\",\"homeScore.display\"],\"changeTimestamp\":1652085223},\"hasGlobalHighlights\":false,\"id\":10287696,\"statusTime\":{\"prefix\":\"\",\"initial\":0,\"max\":2700,\"timestamp\":1652084115,\"extra\":540},\"startTimestamp\":1652084100,\"slug\":\"werribee-city-fc-fc-bulleen-lions-u21\",\"lastPeriod\":\"period1\",\"finalResultOnly\":false},{\"tournament\":{\"name\":\"Premier League\",\"slug\":\"premier-league\",\"category\":{\"name\":\"Ethiopia\",\"slug\":\"ethiopia\",\"sport\":{\"name\":\"Football\",\"slug\":\"football\",\"id\":1},\"id\":1102,\"flag\":\"ethiopia\",\"alpha2\":\"ET\"},\"uniqueTournament\":{\"name\":\"Premier League\",\"slug\":\"premier-league\",\"category\":{\"name\":\"Ethiopia\",\"slug\":\"ethiopia\",\"sport\":{\"name\":\"Football\",\"slug\":\"football\",\"id\":1},\"id\":1102,\"flag\":\"ethiopia\",\"alpha2\":\"ET\"},\"userCount\":5064,\"id\":16601,\"hasEventPlayerStatistics\":false,\"hasPositionGraph\":true},\"priority\":0,\"id\":43049},\"roundInfo\":{\"round\":22},\"customId\":\"vrjcsDhBc\",\"status\":{\"code\":7,\"description\":\"2nd half\",\"type\":\"inprogress\"},\"winnerCode\":0,\"homeTeam\":{\"name\":\"Sidama Bunna\",\"slug\":\"sidama-bunna\",\"shortName\":\"Sidama Bunna\",\"gender\":\"M\",\"userCount\":1209,\"nameCode\":\"SBU\",\"national\":false,\"type\":0,\"id\":315378,\"subTeams\":[],\"teamColors\":{\"primary\":\"#52b030\",\"secondary\":\"#52b030\",\"text\":\"#ffffff\"}},\"awayTeam\":{\"name\":\"Fasil Kenema\",\"slug\":\"fasil-kenema\",\"shortName\":\"Fasil Kenema\",\"gender\":\"M\",\"userCount\":3197,\"nameCode\":\"FKE\",\"national\":false,\"type\":0,\"id\":273370,\"subTeams\":[],\"teamColors\":{\"primary\":\"#ffffff\",\"secondary\":\"#ff0000\",\"text\":\"#ff0000\"}},\"homeScore\":{\"current\":0,\"display\":0,\"period1\":0},\"awayScore\":{\"current\":1,\"display\":1,\"period1\":0},\"coverage\":-1,\"time\":{\"injuryTime1\":3,\"initial\":2700,\"max\":5400,\"extra\":540,\"currentPeriodStartTimestamp\":1652083505},\"changes\":{\"changes\":[\"awayScore.current\",\"awayScore.display\"],\"changeTimestamp\":1652085278},\"hasGlobalHighlights\":false,\"id\":10189314,\"statusTime\":{\"prefix\":\"\",\"initial\":2700,\"max\":5400,\"timestamp\":1652083505,\"extra\":540},\"startTimestamp\":1652079600,\"slug\":\"sidama-bunna-fasil-kenema\",\"lastPeriod\":\"period2\",\"finalResultOnly\":false},{\"tournament\":{\"name\":\"First League\",\"slug\":\"first-league\",\"category\":{\"name\":\"Mongolia\",\"slug\":\"mongolia\",\"sport\":{\"name\":\"Football\",\"slug\":\"football\",\"id\":1},\"id\":1459,\"flag\":\"mongolia\",\"alpha2\":\"MN\"},\"priority\":0,\"id\":79723},\"customId\":\"kjPcsrjPc\",\"status\":{\"code\":6,\"description\":\"1st half\",\"type\":\"inprogress\"},\"winnerCode\":0,\"homeTeam\":{\"name\":\"Khovd Western\",\"slug\":\"khovd-western\",\"shortName\":\"Khovd Western\",\"userCount\":443,\"nameCode\":\"KWE\",\"national\":false,\"type\":0,\"id\":350460,\"subTeams\":[],\"teamColors\":{\"primary\":\"#44966f\",\"secondary\":\"#ffffff\",\"text\":\"#ffffff\"}},\"awayTeam\":{\"name\":\"Khukh Chononuud\",\"slug\":\"khukh-chononuud\",\"shortName\":\"Khukh Chononuud\",\"userCount\":338,\"nameCode\":\"KCH\",\"national\":false,\"type\":0,\"id\":350467,\"subTeams\":[],\"teamColors\":{\"primary\":\"#0052fe\",\"secondary\":\"#ffffff\",\"text\":\"#ffffff\"}},\"homeScore\":{\"current\":0,\"display\":0},\"awayScore\":{\"current\":1,\"display\":1},\"coverage\":-1,\"time\":{\"initial\":0,\"max\":2700,\"extra\":540,\"currentPeriodStartTimestamp\":1652083259},\"changes\":{\"changes\":[\"awayScore.current\",\"awayScore.display\"],\"changeTimestamp\":1652085060},\"hasGlobalHighlights\":false,\"id\":10300182,\"statusTime\":{\"prefix\":\"\",\"initial\":0,\"max\":2700,\"timestamp\":1652083259,\"extra\":540},\"startTimestamp\":1652083200,\"slug\":\"khukh-chononuud-khovd-western\",\"lastPeriod\":\"period1\",\"finalResultOnly\":false},{\"tournament\":{\"name\":\"WK-League\",\"slug\":\"wk-league\",\"category\":{\"name\":\"South Korea\",\"slug\":\"south-korea\",\"sport\":{\"name\":\"Football\",\"slug\":\"football\",\"id\":1},\"id\":291,\"flag\":\"south-korea\",\"alpha2\":\"KR\"},\"uniqueTournament\":{\"name\":\"WK-League\",\"slug\":\"wk-league\",\"category\":{\"name\":\"South Korea\",\"slug\":\"south-korea\",\"sport\":{\"name\":\"Football\",\"slug\":\"football\",\"id\":1},\"id\":291,\"flag\":\"south-korea\",\"alpha2\":\"KR\"},\"userCount\":737,\"id\":2284,\"hasEventPlayerStatistics\":false,\"hasPositionGraph\":false},\"priority\":0,\"id\":10633},\"roundInfo\":{\"round\":8},\"customId\":\"KNBbskRnc\",\"status\":{\"code\":7,\"description\":\"2nd half\",\"type\":\"inprogress\"},\"homeTeam\":{\"name\":\"Gumi Sportstoto WFC\",\"slug\":\"gumi-sportstoto-wfc\",\"shortName\":\"Gumi Sportstoto\",\"gender\":\"F\",\"userCount\":428,\"nameCode\":\"GSS\",\"national\":false,\"type\":0,\"id\":191935,\"subTeams\":[],\"teamColors\":{\"primary\":\"#ffc314\",\"secondary\":\"#0d3078\",\"text\":\"#0d3078\"}},\"awayTeam\":{\"name\":\"Changnyeong WFC\",\"slug\":\"changnyeong-wfc\",\"shortName\":\"Changnyeong WFC\",\"gender\":\"F\",\"userCount\":556,\"nameCode\":\"CWF\",\"national\":false,\"type\":0,\"id\":284610,\"subTeams\":[],\"teamColors\":{\"primary\":\"#54459f\",\"secondary\":\"#dec05e\",\"text\":\"#dec05e\"}},\"homeScore\":{\"current\":0,\"display\":0,\"period1\":0,\"normaltime\":0},\"awayScore\":{\"current\":2,\"display\":2,\"period1\":1,\"normaltime\":1},\"coverage\":-1,\"time\":{\"initial\":2700,\"max\":5400,\"extra\":540,\"currentPeriodStartTimestamp\":1652083500},\"changes\":{\"changes\":[\"awayScore.current\",\"awayScore.display\"],\"changeTimestamp\":1652084852},\"hasGlobalHighlights\":false,\"id\":10290976,\"statusTime\":{\"prefix\":\"\",\"initial\":2700,\"max\":5400,\"timestamp\":1652083500,\"extra\":540},\"startTimestamp\":1652079600,\"slug\":\"changnyeong-wfc-gumi-sportstoto-wfc\",\"lastPeriod\":\"period2\",\"finalResultOnly\":false},{\"tournament\":{\"name\":\"WK-League\",\"slug\":\"wk-league\",\"category\":{\"name\":\"South Korea\",\"slug\":\"south-korea\",\"sport\":{\"name\":\"Football\",\"slug\":\"football\",\"id\":1},\"id\":291,\"flag\":\"south-korea\",\"alpha2\":\"KR\"},\"uniqueTournament\":{\"name\":\"WK-League\",\"slug\":\"wk-league\",\"category\":{\"name\":\"South Korea\",\"slug\":\"south-korea\",\"sport\":{\"name\":\"Football\",\"slug\":\"football\",\"id\":1},\"id\":291,\"flag\":\"south-korea\",\"alpha2\":\"KR\"},\"userCount\":737,\"id\":2284,\"hasEventPlayerStatistics\":false,\"hasPositionGraph\":false},\"priority\":0,\"id\":10633},\"roundInfo\":{\"round\":8},\"customId\":\"DmrbsrNBb\",\"status\":{\"code\":7,\"description\":\"2nd half\",\"type\":\"inprogress\"},\"homeTeam\":{\"name\":\"Suwon FMC\",\"slug\":\"suwon-fmc\",\"shortName\":\"Suwon\",\"gender\":\"F\",\"userCount\":885,\"nameCode\":\"SUW\",\"national\":false,\"type\":0,\"id\":191917,\"subTeams\":[],\"teamColors\":{\"primary\":\"#ff0000\",\"secondary\":\"#000000\",\"text\":\"#000000\"}},\"awayTeam\":{\"name\":\"Incheon Hyundai Steel Red Angels\",\"slug\":\"incheon-hyundai-steel-red-angels\",\"shortName\":\"H. Steel\",\"gender\":\"F\",\"userCount\":2596,\"nameCode\":\"HST\",\"national\":false,\"type\":0,\"id\":168128,\"subTeams\":[],\"teamColors\":{\"primary\":\"#e01510\",\"secondary\":\"#0000ff\",\"text\":\"#0000ff\"}},\"homeScore\":{\"current\":2,\"display\":2,\"period1\":1,\"normaltime\":1},\"awayScore\":{\"current\":2,\"display\":2,\"period1\":0,\"normaltime\":0},\"coverage\":-1,\"time\":{\"initial\":2700,\"max\":5400,\"extra\":540,\"currentPeriodStartTimestamp\":1652083500},\"changes\":{\"changes\":[\"homeScore.current\",\"homeScore.display\"],\"changeTimestamp\":1652084247},\"hasGlobalHighlights\":false,\"id\":10290975,\"statusTime\":{\"prefix\":\"\",\"initial\":2700,\"max\":5400,\"timestamp\":1652083500,\"extra\":540},\"startTimestamp\":1652079600,\"slug\":\"suwon-fmc-incheon-hyundai-steel-red-angels\",\"lastPeriod\":\"period2\",\"finalResultOnly\":false},{\"tournament\":{\"name\":\"2nd Division\",\"slug\":\"2nd-division\",\"category\":{\"name\":\"Vietnam\",\"slug\":\"vietnam\",\"sport\":{\"name\":\"Football\",\"slug\":\"football\",\"id\":1},\"id\":366,\"flag\":\"vietnam\",\"alpha2\":\"VN\"},\"priority\":0,\"id\":44101},\"customId\":\"QnpcsyIcd\",\"status\":{\"code\":6,\"description\":\"1st half\",\"type\":\"inprogress\"},\"winnerCode\":0,\"homeTeam\":{\"name\":\"HAI Nam Vinh Yen VP\",\"slug\":\"hai-nam-vinh-yen-vp\",\"shortName\":\"HAI Nam Vinh Yen VP\",\"userCount\":58,\"nameCode\":\"HNV\",\"national\":false,\"type\":0,\"id\":381673,\"subTeams\":[],\"teamColors\":{\"primary\":\"#52b030\",\"secondary\":\"#52b030\",\"text\":\"#ffffff\"}},\"awayTeam\":{\"name\":\"Kon Tum FC\",\"slug\":\"kon-tum-fc\",\"shortName\":\"Kon Tum FC\",\"gender\":\"M\",\"userCount\":134,\"nameCode\":\"KTU\",\"disabled\":false,\"national\":false,\"type\":0,\"id\":288191,\"subTeams\":[],\"teamColors\":{\"primary\":\"#52b030\",\"secondary\":\"#52b030\",\"text\":\"#ffffff\"}},\"homeScore\":{\"current\":0,\"display\":0},\"awayScore\":{\"current\":0,\"display\":0},\"coverage\":-1,\"time\":{\"initial\":0,\"max\":2700,\"extra\":540,\"currentPeriodStartTimestamp\":1652084855},\"changes\":{\"changes\":[\"status.code\",\"status.description\",\"status.type\",\"homeScore.current\",\"homeScore.display\",\"awayScore.current\",\"awayScore.display\",\"time.currentPeriodStart\"],\"changeTimestamp\":1652085039},\"hasGlobalHighlights\":false,\"id\":10300382,\"statusTime\":{\"prefix\":\"\",\"initial\":0,\"max\":2700,\"timestamp\":1652084855,\"extra\":540},\"startTimestamp\":1652085000,\"slug\":\"hai-nam-vinh-yen-vp-kon-tum-fc\",\"lastPeriod\":\"period1\",\"finalResultOnly\":false}]}\n"
     ]
    }
   ],
   "source": [
    "import requests\n",
    "import json \n",
    "\n",
    "url = \"https://api.sofascore.com/api/v1/sport/football/events/live\"\n",
    "\n",
    "payload = \"\"\n",
    "headers = {\n",
    "    'authority': \"api.sofascore.com\",\n",
    "    'accept': \"*/*\",\n",
    "    'accept-language': \"de-DE,de;q=0.9,en-US;q=0.8,en;q=0.7\",\n",
    "    'cache-control': \"max-age=0\",\n",
    "    'dnt': \"1\",\n",
    "    'if-none-match': \"W/^\\^2b22727b24^^\",\n",
    "    'origin': \"https://www.sofascore.com\",\n",
    "    'referer': \"https://www.sofascore.com/\",\n",
    "    'sec-ch-ua': \"^\\^\"\n",
    "    }\n",
    "\n",
    "response = requests.request(\"GET\", url, data=payload, headers=headers)\n",
    "\n",
    "print(response.text)"
   ]
  },
  {
   "cell_type": "code",
   "execution_count": null,
   "id": "9cf6d84d",
   "metadata": {},
   "outputs": [],
   "source": []
  }
 ],
 "metadata": {
  "kernelspec": {
   "display_name": "Python 3 (ipykernel)",
   "language": "python",
   "name": "python3"
  },
  "language_info": {
   "codemirror_mode": {
    "name": "ipython",
    "version": 3
   },
   "file_extension": ".py",
   "mimetype": "text/x-python",
   "name": "python",
   "nbconvert_exporter": "python",
   "pygments_lexer": "ipython3",
   "version": "3.9.7"
  }
 },
 "nbformat": 4,
 "nbformat_minor": 5
}
