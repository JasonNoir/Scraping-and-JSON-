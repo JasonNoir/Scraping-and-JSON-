{
 "cells": [
  {
   "cell_type": "code",
   "execution_count": 70,
   "id": "536bf293",
   "metadata": {},
   "outputs": [
    {
     "name": "stdout",
     "output_type": "stream",
     "text": [
      "A-League Men\n",
      "Brisbane Roar vs Central Coast Mariners\n",
      "1st half    0 | 0\n",
      "\n",
      "J.League\n",
      "Avispa Fukuoka vs FC Tokyo\n",
      "2nd half    3 | 1\n",
      "\n",
      "Queensland Premier League 3, South Coast, Women\n",
      "Mudgeeraba vs Robina City FC\n",
      "2nd half    0 | 1\n",
      "\n",
      "Vysshaya Liga Reserve\n",
      "Dinamo Minsk Reserve vs BATE Borisov Reserve\n",
      "1st half    0 | 0\n",
      "\n",
      "2nd League\n",
      "FC Bavarians vs Tuuliin Tom Tulnuud\n",
      "2nd half    3 | 1\n",
      "\n"
     ]
    }
   ],
   "source": [
    "\n",
    "import json\n",
    "\n",
    "with open ('scores.json') as f:\n",
    "    jsondata = json.load(f)\n",
    "\"\"\"\n",
    "leage = jsondata['events'][0]['tournament']['name']\n",
    "status = jsondata['events'][0][\"status\"][\"description\"]\n",
    "hometeam = jsondata['events'][0]['homeTeam']['name']\n",
    "awayteam = jsondata['events'][0]['awayTeam']['name']\n",
    "homescore = jsondata['events'][0][\"homeScore\"][\"current\"]\n",
    "awayscore = jsondata['events'][0]['awayScore']['current']\n",
    "idTeam = jsondata['events'][0]['tournament'][\"category\"][\"alpha2\"]\n",
    "\"\"\"\n",
    "\n",
    "\n",
    "\n",
    "\n",
    "def live():\n",
    "    for element in jsondata['events']:\n",
    "        leage =  element['tournament']['name']\n",
    "        status = element[\"status\"][\"description\"]\n",
    "        hometeam = element['homeTeam']['name']\n",
    "        awayteam = element['awayTeam']['name']\n",
    "        homescore = element[\"homeScore\"][\"current\"]\n",
    "        awayscore = element['awayScore']['current']\n",
    "        idTeam = element['tournament'][\"category\"][\"alpha2\"]\n",
    "        print(leage+\"\\n\"+ hometeam+ \" vs \" + awayteam)\n",
    "        print(status,\"  \",homescore ,\"|\", awayscore)\n",
    "        print()\n",
    "live()"
   ]
  },
  {
   "cell_type": "code",
   "execution_count": null,
   "id": "1ca8a702",
   "metadata": {},
   "outputs": [],
   "source": []
  },
  {
   "cell_type": "code",
   "execution_count": null,
   "id": "a3135006",
   "metadata": {},
   "outputs": [],
   "source": []
  }
 ],
 "metadata": {
  "kernelspec": {
   "display_name": "Python 3 (ipykernel)",
   "language": "python",
   "name": "python3"
  },
  "language_info": {
   "codemirror_mode": {
    "name": "ipython",
    "version": 3
   },
   "file_extension": ".py",
   "mimetype": "text/x-python",
   "name": "python",
   "nbconvert_exporter": "python",
   "pygments_lexer": "ipython3",
   "version": "3.9.7"
  }
 },
 "nbformat": 4,
 "nbformat_minor": 5
}
